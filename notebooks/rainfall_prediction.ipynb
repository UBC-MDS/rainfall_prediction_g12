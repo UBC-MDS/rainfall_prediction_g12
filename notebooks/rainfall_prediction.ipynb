{
 "cells": [
  {
   "cell_type": "markdown",
   "id": "05c64e70-e4cf-4315-8ba7-f2e39ee1e564",
   "metadata": {},
   "source": [
    "# Rainfall Prediction Project"
   ]
  },
  {
   "cell_type": "markdown",
   "id": "9df89c9a-6780-4146-9a18-3ff3651075f9",
   "metadata": {},
   "source": [
    "## Data Loading, combining and EDA"
   ]
  },
  {
   "cell_type": "markdown",
   "id": "f749cc8c-0a34-421a-bbb7-88b1d8356b17",
   "metadata": {},
   "source": [
    "*Group 12*"
   ]
  },
  {
   "cell_type": "markdown",
   "id": "ff1c3eee-b960-4e9c-9626-20420c494c0d",
   "metadata": {},
   "source": [
    "------------"
   ]
  },
  {
   "cell_type": "code",
   "execution_count": 8,
   "id": "73f4addc-2450-4c45-9a00-45885ac7abe8",
   "metadata": {},
   "outputs": [],
   "source": [
    "import re\n",
    "import os\n",
    "import glob\n",
    "import zipfile\n",
    "import requests\n",
    "from urllib.request import urlretrieve\n",
    "import json\n",
    "import pandas as pd"
   ]
  },
  {
   "cell_type": "markdown",
   "id": "33ebe339-3ae5-408a-8614-427911855fca",
   "metadata": {},
   "source": [
    "## Download the data"
   ]
  },
  {
   "cell_type": "code",
   "execution_count": 9,
   "id": "62c27be8-f9b8-4e69-a039-236a2401c617",
   "metadata": {},
   "outputs": [],
   "source": [
    "article_id = 14096681\n",
    "url = f\"https://api.figshare.com/v2/articles/{article_id}\"\n",
    "headers = {\"Content-Type\": \"application/json\"}\n",
    "output_directory = \"../data/raw/figsharerainfall/\""
   ]
  },
  {
   "cell_type": "code",
   "execution_count": 10,
   "id": "feb6fec9-79f1-47ef-894e-280a4bbf232f",
   "metadata": {},
   "outputs": [],
   "source": [
    "response = requests.request(\"GET\", url, headers=headers)\n",
    "data = json.loads(response.text)\n",
    "files = data[\"files\"]"
   ]
  },
  {
   "cell_type": "code",
   "execution_count": 11,
   "id": "921a9263-9358-4b36-8277-0b33d3b2484b",
   "metadata": {},
   "outputs": [],
   "source": [
    "files_to_dl = [\"data.zip\"]\n",
    "for file in files:\n",
    "    if file[\"name\"] in files_to_dl:\n",
    "        os.makedirs(output_directory, exist_ok=True)\n",
    "        urlretrieve(file[\"download_url\"], output_directory + file[\"name\"])"
   ]
  },
  {
   "cell_type": "code",
   "execution_count": 12,
   "id": "fbab417e-19b6-40f8-ad71-c8bbb0802d7f",
   "metadata": {},
   "outputs": [],
   "source": [
    "with zipfile.ZipFile(os.path.join(output_directory, files_to_dl[0]), 'r') as f:\n",
    "    f.extractall(output_directory)"
   ]
  },
  {
   "cell_type": "markdown",
   "id": "415fb752-10e2-4438-a1b1-b55ce6c6ca2f",
   "metadata": {},
   "source": [
    "## Combine the data"
   ]
  },
  {
   "cell_type": "code",
   "execution_count": 13,
   "id": "cbbc1931-06fd-4059-b859-54411a349c47",
   "metadata": {},
   "outputs": [
    {
     "name": "stdout",
     "output_type": "stream",
     "text": [
      "CPU times: user 5min 49s, sys: 7.46 s, total: 5min 57s\n",
      "Wall time: 6min\n"
     ]
    }
   ],
   "source": [
    "%%time\n",
    "exclude = \"observed_daily_rainfall_SYD.csv\"\n",
    "files = glob.glob('../data/raw/figsharerainfall/*.csv')\n",
    "df = pd.concat(\n",
    "    (pd.read_csv(file, index_col=0)\n",
    "                .assign(model=re.findall(r'[A-Z][^_]+', file)[0])\n",
    "                for file in files if file is not exclude)\n",
    ")\n",
    "df.to_csv(\"../data/processed/combined_data.csv\")"
   ]
  },
  {
   "cell_type": "code",
   "execution_count": 16,
   "id": "7ccf04ef-5cf5-43f1-9132-fd48fedead83",
   "metadata": {},
   "outputs": [
    {
     "data": {
      "text/html": [
       "<div>\n",
       "<style scoped>\n",
       "    .dataframe tbody tr th:only-of-type {\n",
       "        vertical-align: middle;\n",
       "    }\n",
       "\n",
       "    .dataframe tbody tr th {\n",
       "        vertical-align: top;\n",
       "    }\n",
       "\n",
       "    .dataframe thead th {\n",
       "        text-align: right;\n",
       "    }\n",
       "</style>\n",
       "<table border=\"1\" class=\"dataframe\">\n",
       "  <thead>\n",
       "    <tr style=\"text-align: right;\">\n",
       "      <th></th>\n",
       "      <th>time</th>\n",
       "      <th>lat_min</th>\n",
       "      <th>lat_max</th>\n",
       "      <th>lon_min</th>\n",
       "      <th>lon_max</th>\n",
       "      <th>rain (mm/day)</th>\n",
       "      <th>model</th>\n",
       "    </tr>\n",
       "  </thead>\n",
       "  <tbody>\n",
       "    <tr>\n",
       "      <th>0</th>\n",
       "      <td>1889-01-01 12:00:00</td>\n",
       "      <td>-35.439867</td>\n",
       "      <td>-33.574619</td>\n",
       "      <td>141.5625</td>\n",
       "      <td>143.4375</td>\n",
       "      <td>4.244226e-13</td>\n",
       "      <td>MPI-ESM-1-2-HAM</td>\n",
       "    </tr>\n",
       "    <tr>\n",
       "      <th>1</th>\n",
       "      <td>1889-01-02 12:00:00</td>\n",
       "      <td>-35.439867</td>\n",
       "      <td>-33.574619</td>\n",
       "      <td>141.5625</td>\n",
       "      <td>143.4375</td>\n",
       "      <td>4.217326e-13</td>\n",
       "      <td>MPI-ESM-1-2-HAM</td>\n",
       "    </tr>\n",
       "    <tr>\n",
       "      <th>2</th>\n",
       "      <td>1889-01-03 12:00:00</td>\n",
       "      <td>-35.439867</td>\n",
       "      <td>-33.574619</td>\n",
       "      <td>141.5625</td>\n",
       "      <td>143.4375</td>\n",
       "      <td>4.498125e-13</td>\n",
       "      <td>MPI-ESM-1-2-HAM</td>\n",
       "    </tr>\n",
       "    <tr>\n",
       "      <th>3</th>\n",
       "      <td>1889-01-04 12:00:00</td>\n",
       "      <td>-35.439867</td>\n",
       "      <td>-33.574619</td>\n",
       "      <td>141.5625</td>\n",
       "      <td>143.4375</td>\n",
       "      <td>4.251282e-13</td>\n",
       "      <td>MPI-ESM-1-2-HAM</td>\n",
       "    </tr>\n",
       "    <tr>\n",
       "      <th>4</th>\n",
       "      <td>1889-01-05 12:00:00</td>\n",
       "      <td>-35.439867</td>\n",
       "      <td>-33.574619</td>\n",
       "      <td>141.5625</td>\n",
       "      <td>143.4375</td>\n",
       "      <td>4.270161e-13</td>\n",
       "      <td>MPI-ESM-1-2-HAM</td>\n",
       "    </tr>\n",
       "  </tbody>\n",
       "</table>\n",
       "</div>"
      ],
      "text/plain": [
       "                  time    lat_min    lat_max   lon_min   lon_max  \\\n",
       "0  1889-01-01 12:00:00 -35.439867 -33.574619  141.5625  143.4375   \n",
       "1  1889-01-02 12:00:00 -35.439867 -33.574619  141.5625  143.4375   \n",
       "2  1889-01-03 12:00:00 -35.439867 -33.574619  141.5625  143.4375   \n",
       "3  1889-01-04 12:00:00 -35.439867 -33.574619  141.5625  143.4375   \n",
       "4  1889-01-05 12:00:00 -35.439867 -33.574619  141.5625  143.4375   \n",
       "\n",
       "   rain (mm/day)            model  \n",
       "0   4.244226e-13  MPI-ESM-1-2-HAM  \n",
       "1   4.217326e-13  MPI-ESM-1-2-HAM  \n",
       "2   4.498125e-13  MPI-ESM-1-2-HAM  \n",
       "3   4.251282e-13  MPI-ESM-1-2-HAM  \n",
       "4   4.270161e-13  MPI-ESM-1-2-HAM  "
      ]
     },
     "execution_count": 16,
     "metadata": {},
     "output_type": "execute_result"
    }
   ],
   "source": [
    "df = pd.read_csv(\"../data/processed/combined_data.csv\")\n",
    "df.head()"
   ]
  },
  {
   "cell_type": "code",
   "execution_count": 17,
   "id": "349db01c-c8b8-4c15-9bf5-8c14df4fce74",
   "metadata": {},
   "outputs": [
    {
     "data": {
      "text/html": [
       "<div>\n",
       "<style scoped>\n",
       "    .dataframe tbody tr th:only-of-type {\n",
       "        vertical-align: middle;\n",
       "    }\n",
       "\n",
       "    .dataframe tbody tr th {\n",
       "        vertical-align: top;\n",
       "    }\n",
       "\n",
       "    .dataframe thead th {\n",
       "        text-align: right;\n",
       "    }\n",
       "</style>\n",
       "<table border=\"1\" class=\"dataframe\">\n",
       "  <thead>\n",
       "    <tr style=\"text-align: right;\">\n",
       "      <th></th>\n",
       "      <th>time</th>\n",
       "      <th>lat_min</th>\n",
       "      <th>lat_max</th>\n",
       "      <th>lon_min</th>\n",
       "      <th>lon_max</th>\n",
       "      <th>rain (mm/day)</th>\n",
       "      <th>model</th>\n",
       "    </tr>\n",
       "  </thead>\n",
       "  <tbody>\n",
       "    <tr>\n",
       "      <th>62513858</th>\n",
       "      <td>2014-12-27 12:00:00</td>\n",
       "      <td>-30.157068</td>\n",
       "      <td>-29.21466</td>\n",
       "      <td>153.125</td>\n",
       "      <td>154.375</td>\n",
       "      <td>6.689683</td>\n",
       "      <td>SAM0-UNICON</td>\n",
       "    </tr>\n",
       "    <tr>\n",
       "      <th>62513859</th>\n",
       "      <td>2014-12-28 12:00:00</td>\n",
       "      <td>-30.157068</td>\n",
       "      <td>-29.21466</td>\n",
       "      <td>153.125</td>\n",
       "      <td>154.375</td>\n",
       "      <td>7.862555</td>\n",
       "      <td>SAM0-UNICON</td>\n",
       "    </tr>\n",
       "    <tr>\n",
       "      <th>62513860</th>\n",
       "      <td>2014-12-29 12:00:00</td>\n",
       "      <td>-30.157068</td>\n",
       "      <td>-29.21466</td>\n",
       "      <td>153.125</td>\n",
       "      <td>154.375</td>\n",
       "      <td>10.005026</td>\n",
       "      <td>SAM0-UNICON</td>\n",
       "    </tr>\n",
       "    <tr>\n",
       "      <th>62513861</th>\n",
       "      <td>2014-12-30 12:00:00</td>\n",
       "      <td>-30.157068</td>\n",
       "      <td>-29.21466</td>\n",
       "      <td>153.125</td>\n",
       "      <td>154.375</td>\n",
       "      <td>8.541592</td>\n",
       "      <td>SAM0-UNICON</td>\n",
       "    </tr>\n",
       "    <tr>\n",
       "      <th>62513862</th>\n",
       "      <td>2014-12-31 12:00:00</td>\n",
       "      <td>-30.157068</td>\n",
       "      <td>-29.21466</td>\n",
       "      <td>153.125</td>\n",
       "      <td>154.375</td>\n",
       "      <td>68.117489</td>\n",
       "      <td>SAM0-UNICON</td>\n",
       "    </tr>\n",
       "  </tbody>\n",
       "</table>\n",
       "</div>"
      ],
      "text/plain": [
       "                         time    lat_min   lat_max  lon_min  lon_max  \\\n",
       "62513858  2014-12-27 12:00:00 -30.157068 -29.21466  153.125  154.375   \n",
       "62513859  2014-12-28 12:00:00 -30.157068 -29.21466  153.125  154.375   \n",
       "62513860  2014-12-29 12:00:00 -30.157068 -29.21466  153.125  154.375   \n",
       "62513861  2014-12-30 12:00:00 -30.157068 -29.21466  153.125  154.375   \n",
       "62513862  2014-12-31 12:00:00 -30.157068 -29.21466  153.125  154.375   \n",
       "\n",
       "          rain (mm/day)        model  \n",
       "62513858       6.689683  SAM0-UNICON  \n",
       "62513859       7.862555  SAM0-UNICON  \n",
       "62513860      10.005026  SAM0-UNICON  \n",
       "62513861       8.541592  SAM0-UNICON  \n",
       "62513862      68.117489  SAM0-UNICON  "
      ]
     },
     "execution_count": 17,
     "metadata": {},
     "output_type": "execute_result"
    }
   ],
   "source": [
    "df.tail()"
   ]
  },
  {
   "cell_type": "markdown",
   "id": "0711897d-a6b8-4ada-b6da-21ffda46576a",
   "metadata": {},
   "source": [
    "## Combine data csv on different machines\n",
    "\n",
    "- Compare observations:"
   ]
  },
  {
   "cell_type": "markdown",
   "id": "545af876-270c-4812-92c8-487d3580475c",
   "metadata": {},
   "source": [
    "| Team Member   | Operating System | RAM | Processor | Is SSD | Time taken |\n",
    "|:-------------:|:----------------:|:---:|:---------:|:------:|:----------:|\n",
    "| Vera Cui      | macOS            | 16GB| M1        | No     | 6min 39s   |\n",
    "| Lynn Wu       | macOS            | 8GB | M1        | Yes    |  6min 7s   |\n",
    "| Jasmine Ortega|                  |     |           |        |            |\n",
    "| Maeve Shi   | MacOS Big Sur    | 8GB | 2.3 GHz Dual-Core Intel Core i5 | Yes |  7min 30s   |"
   ]
  },
  {
   "cell_type": "markdown",
   "id": "1b5181a6-af76-49a5-92e8-f7888a3a5713",
   "metadata": {},
   "source": [
    "--------------"
   ]
  },
  {
   "cell_type": "markdown",
   "id": "bbd152ed-e586-4bf9-8a1a-969d0300c136",
   "metadata": {},
   "source": [
    "##  Load csv and perform EDA on different machines"
   ]
  },
  {
   "cell_type": "markdown",
   "id": "bae8d1fb-bd9b-4828-8ad8-2716f8d055a1",
   "metadata": {},
   "source": [
    "- Approaches to reduce memory usage while performing the EDA:"
   ]
  },
  {
   "cell_type": "markdown",
   "id": "2e59341c-abfc-4085-b5cf-d529e5d3828e",
   "metadata": {},
   "source": [
    "    - \n",
    "    - "
   ]
  },
  {
   "cell_type": "markdown",
   "id": "f5ea4265-2eb3-4cdc-971f-8dde44959727",
   "metadata": {
    "tags": []
   },
   "source": [
    "- Compare observations:"
   ]
  },
  {
   "cell_type": "markdown",
   "id": "0e1fb514-1edb-45ac-8473-2078ba77c14d",
   "metadata": {},
   "source": [
    "| Team Member   | Operating System | RAM | Processor | Is SSD | Time taken |\n",
    "|:-------------:|:----------------:|:---:|:---------:|:------:|:----------:|\n",
    "| Vera Cui      |                  |     |           |        |            |\n",
    "| Lynn Wu       |                  |     |           |        |            |\n",
    "| Jasmine Ortega|                  |     |           |        |            |\n",
    "| Yike Shi      |                  |     |           |        |            |"
   ]
  },
  {
   "cell_type": "code",
   "execution_count": null,
   "id": "0e5f9a78-6f3b-41d4-8ef4-fcc8a652419a",
   "metadata": {},
   "outputs": [],
   "source": []
  },
  {
   "cell_type": "code",
   "execution_count": null,
   "id": "333c6e47-7325-46b9-a9e7-62d2e1ca9434",
   "metadata": {},
   "outputs": [],
   "source": []
  }
 ],
 "metadata": {
  "kernelspec": {
   "display_name": "Python [conda env:525]",
   "language": "python",
   "name": "conda-env-525-py"
  },
  "language_info": {
   "codemirror_mode": {
    "name": "ipython",
    "version": 3
   },
   "file_extension": ".py",
   "mimetype": "text/x-python",
   "name": "python",
   "nbconvert_exporter": "python",
   "pygments_lexer": "ipython3",
   "version": "3.8.6"
  }
 },
 "nbformat": 4,
 "nbformat_minor": 5
}
