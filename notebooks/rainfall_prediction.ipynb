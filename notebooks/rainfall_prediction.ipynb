{
 "cells": [
  {
   "cell_type": "markdown",
   "id": "05c64e70-e4cf-4315-8ba7-f2e39ee1e564",
   "metadata": {},
   "source": [
    "# Rainfall Prediction Project"
   ]
  },
  {
   "cell_type": "markdown",
   "id": "9df89c9a-6780-4146-9a18-3ff3651075f9",
   "metadata": {},
   "source": [
    "## Data Loading, combining and EDA"
   ]
  },
  {
   "cell_type": "markdown",
   "id": "f749cc8c-0a34-421a-bbb7-88b1d8356b17",
   "metadata": {},
   "source": [
    "*Group 12*"
   ]
  },
  {
   "cell_type": "markdown",
   "id": "ff1c3eee-b960-4e9c-9626-20420c494c0d",
   "metadata": {},
   "source": [
    "------------"
   ]
  },
  {
   "cell_type": "code",
   "execution_count": 3,
   "id": "73f4addc-2450-4c45-9a00-45885ac7abe8",
   "metadata": {},
   "outputs": [],
   "source": [
    "import re\n",
    "import os\n",
    "import glob\n",
    "import zipfile\n",
    "import requests\n",
    "from urllib.request import urlretrieve\n",
    "import json\n",
    "import pandas as pd"
   ]
  },
  {
   "cell_type": "markdown",
   "id": "33ebe339-3ae5-408a-8614-427911855fca",
   "metadata": {},
   "source": [
    "## Download the data"
   ]
  },
  {
   "cell_type": "code",
   "execution_count": 2,
   "id": "62c27be8-f9b8-4e69-a039-236a2401c617",
   "metadata": {},
   "outputs": [],
   "source": [
    "article_id = 14096681\n",
    "url = f\"https://api.figshare.com/v2/articles/{article_id}\"\n",
    "headers = {\"Content-Type\": \"application/json\"}\n",
    "output_directory = \"../data/raw/figsharerainfall/\""
   ]
  },
  {
   "cell_type": "code",
   "execution_count": 3,
   "id": "feb6fec9-79f1-47ef-894e-280a4bbf232f",
   "metadata": {},
   "outputs": [],
   "source": [
    "response = requests.request(\"GET\", url, headers=headers)\n",
    "data = json.loads(response.text)\n",
    "files = data[\"files\"]"
   ]
  },
  {
   "cell_type": "code",
   "execution_count": 4,
   "id": "921a9263-9358-4b36-8277-0b33d3b2484b",
   "metadata": {},
   "outputs": [],
   "source": [
    "files_to_dl = [\"data.zip\"]\n",
    "for file in files:\n",
    "    if file[\"name\"] in files_to_dl:\n",
    "        os.makedirs(output_directory, exist_ok=True)\n",
    "        urlretrieve(file[\"download_url\"], output_directory + file[\"name\"])"
   ]
  },
  {
   "cell_type": "code",
   "execution_count": 5,
   "id": "fbab417e-19b6-40f8-ad71-c8bbb0802d7f",
   "metadata": {},
   "outputs": [],
   "source": [
    "with zipfile.ZipFile(os.path.join(output_directory, files_to_dl[0]), 'r') as f:\n",
    "    f.extractall(output_directory)"
   ]
  },
  {
   "cell_type": "markdown",
   "id": "415fb752-10e2-4438-a1b1-b55ce6c6ca2f",
   "metadata": {},
   "source": [
    "## Combine the data"
   ]
  },
  {
   "cell_type": "code",
   "execution_count": 6,
   "id": "cbbc1931-06fd-4059-b859-54411a349c47",
   "metadata": {},
   "outputs": [
    {
     "name": "stdout",
     "output_type": "stream",
     "text": [
      "CPU times: user 9min 27s, sys: 16.8 s, total: 9min 44s\n",
      "Wall time: 9min 56s\n"
     ]
    }
   ],
   "source": [
    "%%time\n",
    "exclude = \"observed_daily_rainfall_SYD.csv\"\n",
    "files = glob.glob('../data/raw/figsharerainfall/*.csv')\n",
    "df = pd.concat(\n",
    "    (pd.read_csv(file, index_col=0)\n",
    "                .assign(model=re.findall(r'[A-Z][^_]+', file)[0])\n",
    "                for file in files if file is not exclude)\n",
    ")\n",
    "df.to_csv(\"../data/processed/combined_data.csv\")"
   ]
  },
  {
   "cell_type": "code",
   "execution_count": 10,
   "id": "7ccf04ef-5cf5-43f1-9132-fd48fedead83",
   "metadata": {},
   "outputs": [
    {
     "data": {
      "text/html": [
       "<div>\n",
       "<style scoped>\n",
       "    .dataframe tbody tr th:only-of-type {\n",
       "        vertical-align: middle;\n",
       "    }\n",
       "\n",
       "    .dataframe tbody tr th {\n",
       "        vertical-align: top;\n",
       "    }\n",
       "\n",
       "    .dataframe thead th {\n",
       "        text-align: right;\n",
       "    }\n",
       "</style>\n",
       "<table border=\"1\" class=\"dataframe\">\n",
       "  <thead>\n",
       "    <tr style=\"text-align: right;\">\n",
       "      <th></th>\n",
       "      <th>time</th>\n",
       "      <th>lat_min</th>\n",
       "      <th>lat_max</th>\n",
       "      <th>lon_min</th>\n",
       "      <th>lon_max</th>\n",
       "      <th>rain (mm/day)</th>\n",
       "      <th>model</th>\n",
       "    </tr>\n",
       "  </thead>\n",
       "  <tbody>\n",
       "    <tr>\n",
       "      <th>0</th>\n",
       "      <td>1889-01-01 12:00:00</td>\n",
       "      <td>-35.439867</td>\n",
       "      <td>-33.574619</td>\n",
       "      <td>141.5625</td>\n",
       "      <td>143.4375</td>\n",
       "      <td>4.244226e-13</td>\n",
       "      <td>MPI-ESM-1-2-HAM</td>\n",
       "    </tr>\n",
       "    <tr>\n",
       "      <th>1</th>\n",
       "      <td>1889-01-02 12:00:00</td>\n",
       "      <td>-35.439867</td>\n",
       "      <td>-33.574619</td>\n",
       "      <td>141.5625</td>\n",
       "      <td>143.4375</td>\n",
       "      <td>4.217326e-13</td>\n",
       "      <td>MPI-ESM-1-2-HAM</td>\n",
       "    </tr>\n",
       "    <tr>\n",
       "      <th>2</th>\n",
       "      <td>1889-01-03 12:00:00</td>\n",
       "      <td>-35.439867</td>\n",
       "      <td>-33.574619</td>\n",
       "      <td>141.5625</td>\n",
       "      <td>143.4375</td>\n",
       "      <td>4.498125e-13</td>\n",
       "      <td>MPI-ESM-1-2-HAM</td>\n",
       "    </tr>\n",
       "    <tr>\n",
       "      <th>3</th>\n",
       "      <td>1889-01-04 12:00:00</td>\n",
       "      <td>-35.439867</td>\n",
       "      <td>-33.574619</td>\n",
       "      <td>141.5625</td>\n",
       "      <td>143.4375</td>\n",
       "      <td>4.251282e-13</td>\n",
       "      <td>MPI-ESM-1-2-HAM</td>\n",
       "    </tr>\n",
       "    <tr>\n",
       "      <th>4</th>\n",
       "      <td>1889-01-05 12:00:00</td>\n",
       "      <td>-35.439867</td>\n",
       "      <td>-33.574619</td>\n",
       "      <td>141.5625</td>\n",
       "      <td>143.4375</td>\n",
       "      <td>4.270161e-13</td>\n",
       "      <td>MPI-ESM-1-2-HAM</td>\n",
       "    </tr>\n",
       "  </tbody>\n",
       "</table>\n",
       "</div>"
      ],
      "text/plain": [
       "                  time    lat_min    lat_max   lon_min   lon_max  \\\n",
       "0  1889-01-01 12:00:00 -35.439867 -33.574619  141.5625  143.4375   \n",
       "1  1889-01-02 12:00:00 -35.439867 -33.574619  141.5625  143.4375   \n",
       "2  1889-01-03 12:00:00 -35.439867 -33.574619  141.5625  143.4375   \n",
       "3  1889-01-04 12:00:00 -35.439867 -33.574619  141.5625  143.4375   \n",
       "4  1889-01-05 12:00:00 -35.439867 -33.574619  141.5625  143.4375   \n",
       "\n",
       "   rain (mm/day)            model  \n",
       "0   4.244226e-13  MPI-ESM-1-2-HAM  \n",
       "1   4.217326e-13  MPI-ESM-1-2-HAM  \n",
       "2   4.498125e-13  MPI-ESM-1-2-HAM  \n",
       "3   4.251282e-13  MPI-ESM-1-2-HAM  \n",
       "4   4.270161e-13  MPI-ESM-1-2-HAM  "
      ]
     },
     "execution_count": 10,
     "metadata": {},
     "output_type": "execute_result"
    }
   ],
   "source": [
    "df = pd.read_csv(\"../data/processed/combined_data.csv\")\n",
    "df.head()"
   ]
  },
  {
   "cell_type": "code",
   "execution_count": 8,
   "id": "349db01c-c8b8-4c15-9bf5-8c14df4fce74",
   "metadata": {},
   "outputs": [
    {
     "data": {
      "text/html": [
       "<div>\n",
       "<style scoped>\n",
       "    .dataframe tbody tr th:only-of-type {\n",
       "        vertical-align: middle;\n",
       "    }\n",
       "\n",
       "    .dataframe tbody tr th {\n",
       "        vertical-align: top;\n",
       "    }\n",
       "\n",
       "    .dataframe thead th {\n",
       "        text-align: right;\n",
       "    }\n",
       "</style>\n",
       "<table border=\"1\" class=\"dataframe\">\n",
       "  <thead>\n",
       "    <tr style=\"text-align: right;\">\n",
       "      <th></th>\n",
       "      <th>time</th>\n",
       "      <th>lat_min</th>\n",
       "      <th>lat_max</th>\n",
       "      <th>lon_min</th>\n",
       "      <th>lon_max</th>\n",
       "      <th>rain (mm/day)</th>\n",
       "      <th>model</th>\n",
       "    </tr>\n",
       "  </thead>\n",
       "  <tbody>\n",
       "    <tr>\n",
       "      <th>19283042</th>\n",
       "      <td>1912-12-04 12:00:00</td>\n",
       "      <td>-33.644675</td>\n",
       "      <td>-32.523187</td>\n",
       "      <td>152.4375</td>\n",
       "      <td>153.5625</td>\n",
       "      <td>0.133328</td>\n",
       "      <td>BCC-CSM2-MR</td>\n",
       "    </tr>\n",
       "    <tr>\n",
       "      <th>19283043</th>\n",
       "      <td>1912-12-05 12:00:00</td>\n",
       "      <td>-33.644675</td>\n",
       "      <td>-32.523187</td>\n",
       "      <td>152.4375</td>\n",
       "      <td>153.5625</td>\n",
       "      <td>20.639483</td>\n",
       "      <td>BCC-CSM2-MR</td>\n",
       "    </tr>\n",
       "    <tr>\n",
       "      <th>19283044</th>\n",
       "      <td>1912-12-06 12:00:00</td>\n",
       "      <td>-33.644675</td>\n",
       "      <td>-32.523187</td>\n",
       "      <td>152.4375</td>\n",
       "      <td>153.5625</td>\n",
       "      <td>1.329393</td>\n",
       "      <td>BCC-CSM2-MR</td>\n",
       "    </tr>\n",
       "    <tr>\n",
       "      <th>19283045</th>\n",
       "      <td>1912-12-07 12:00:00</td>\n",
       "      <td>-33.644675</td>\n",
       "      <td>-32.523187</td>\n",
       "      <td>152.4375</td>\n",
       "      <td>153.5625</td>\n",
       "      <td>0.000261</td>\n",
       "      <td>BCC-CSM2-MR</td>\n",
       "    </tr>\n",
       "    <tr>\n",
       "      <th>19283046</th>\n",
       "      <td>1912-12-08 12:00:00</td>\n",
       "      <td>-33.644675</td>\n",
       "      <td>-32.523187</td>\n",
       "      <td>152.4375</td>\n",
       "      <td>153.5625</td>\n",
       "      <td>0.015799</td>\n",
       "      <td>BCC-CSM2-MR</td>\n",
       "    </tr>\n",
       "  </tbody>\n",
       "</table>\n",
       "</div>"
      ],
      "text/plain": [
       "                         time    lat_min    lat_max   lon_min   lon_max  \\\n",
       "19283042  1912-12-04 12:00:00 -33.644675 -32.523187  152.4375  153.5625   \n",
       "19283043  1912-12-05 12:00:00 -33.644675 -32.523187  152.4375  153.5625   \n",
       "19283044  1912-12-06 12:00:00 -33.644675 -32.523187  152.4375  153.5625   \n",
       "19283045  1912-12-07 12:00:00 -33.644675 -32.523187  152.4375  153.5625   \n",
       "19283046  1912-12-08 12:00:00 -33.644675 -32.523187  152.4375  153.5625   \n",
       "\n",
       "          rain (mm/day)        model  \n",
       "19283042       0.133328  BCC-CSM2-MR  \n",
       "19283043      20.639483  BCC-CSM2-MR  \n",
       "19283044       1.329393  BCC-CSM2-MR  \n",
       "19283045       0.000261  BCC-CSM2-MR  \n",
       "19283046       0.015799  BCC-CSM2-MR  "
      ]
     },
     "execution_count": 8,
     "metadata": {},
     "output_type": "execute_result"
    }
   ],
   "source": [
    "df.tail()"
   ]
  },
  {
   "cell_type": "markdown",
   "id": "0711897d-a6b8-4ada-b6da-21ffda46576a",
   "metadata": {},
   "source": [
    "## Combine data csv on different machines\n",
    "\n",
    "- Compare observations:"
   ]
  },
  {
   "cell_type": "markdown",
   "id": "545af876-270c-4812-92c8-487d3580475c",
   "metadata": {},
   "source": [
    "| Team Member   | Operating System | RAM | Processor | Is SSD | Time taken |\n",
    "|:-------------:|:----------------:|:---:|:---------:|:------:|:----------:|\n",
    "| Vera Cui      | macOS            | 16GB| M1        | No     | 6min 39s   |\n",
    "| Lynn Wu       | macOS            | 8GB | M1        | Yes    |  6min 7s   |\n",
    "| Jasmine Ortega|  macOS         |  8GB |   M1   |  Yes   | 9min 56s     |\n",
    "| Maeve Shi   | MacOS Big Sur    | 8GB | 2.3 GHz Dual-Core Intel Core i5 | Yes |  7min 30s   |"
   ]
  },
  {
   "cell_type": "markdown",
   "id": "1b5181a6-af76-49a5-92e8-f7888a3a5713",
   "metadata": {},
   "source": [
    "--------------"
   ]
  },
  {
   "cell_type": "markdown",
   "id": "bbd152ed-e586-4bf9-8a1a-969d0300c136",
   "metadata": {},
   "source": [
    "##  Load csv and perform EDA on different machines"
   ]
  },
  {
   "cell_type": "markdown",
   "id": "16473c1e-7693-4325-a572-7aefdfad2d05",
   "metadata": {},
   "source": [
    "#### Baseline `read_csv` time"
   ]
  },
  {
   "cell_type": "code",
   "execution_count": 8,
   "id": "25b72e02-8a89-4c05-b0db-c439d13d8c87",
   "metadata": {},
   "outputs": [
    {
     "name": "stdout",
     "output_type": "stream",
     "text": [
      "CPU times: user 1min 7s, sys: 17.1 s, total: 1min 24s\n",
      "Wall time: 1min 37s\n"
     ]
    }
   ],
   "source": [
    "%%time\n",
    "df = pd.read_csv(\"../data/processed/combined_data.csv\")"
   ]
  },
  {
   "cell_type": "code",
   "execution_count": 9,
   "id": "0854f838-df0a-4a31-8cb7-fa3e75ae91ec",
   "metadata": {},
   "outputs": [
    {
     "name": "stdout",
     "output_type": "stream",
     "text": [
      "<class 'pandas.core.frame.DataFrame'>\n",
      "RangeIndex: 62513863 entries, 0 to 62513862\n",
      "Data columns (total 7 columns):\n",
      " #   Column         Dtype  \n",
      "---  ------         -----  \n",
      " 0   time           object \n",
      " 1   lat_min        float64\n",
      " 2   lat_max        float64\n",
      " 3   lon_min        float64\n",
      " 4   lon_max        float64\n",
      " 5   rain (mm/day)  float64\n",
      " 6   model          object \n",
      "dtypes: float64(5), object(2)\n",
      "memory usage: 3.3+ GB\n"
     ]
    }
   ],
   "source": [
    "df.info()"
   ]
  },
  {
   "cell_type": "markdown",
   "id": "d8fa3c1b-e431-4d61-9f1e-91c64d0054f6",
   "metadata": {},
   "source": [
    "| Team Member   | Operating System | RAM | Processor | Is SSD | Time taken |\n",
    "|:-------------:|:----------------:|:---:|:---------:|:------:|:----------:|\n",
    "| Vera Cui      |                  |     |           |        |            |\n",
    "| Lynn Wu       |                  |     |           |        |            |\n",
    "| Jasmine Ortega|  MacOS           |8GB  |    M1     |  yes   |1 min 46s   |\n",
    "| Yike Shi      |                  |     |           |        |            |"
   ]
  },
  {
   "cell_type": "markdown",
   "id": "bae8d1fb-bd9b-4828-8ad8-2716f8d055a1",
   "metadata": {},
   "source": [
    "As is, the csv file took 1 minute and 46 seconds to load. From `.info()` we can see that the df consists of 6 columns all of the dtype `float64`. To reduce memory usage, we will first convert the data type to `float32` and `float16`, both which will reduce memory used, as shown below."
   ]
  },
  {
   "cell_type": "code",
   "execution_count": 13,
   "id": "4730d928-2273-4ca8-a265-ebc3584087d0",
   "metadata": {},
   "outputs": [
    {
     "name": "stdout",
     "output_type": "stream",
     "text": [
      "Memory usage with float64: 3500.78 MB\n",
      "Memory usage with float32: 2250.50 MB\n",
      "Memory usage with float16: 1625.36 MB\n"
     ]
    }
   ],
   "source": [
    "print(f\"Memory usage with float64: {df.memory_usage().sum() / 1e6:.2f} MB\")\n",
    "print(f\"Memory usage with float32: {df.astype('float32', errors='ignore').memory_usage().sum() / 1e6:.2f} MB\")\n",
    "print(f\"Memory usage with float16: {df.astype('float16', errors='ignore').memory_usage().sum() / 1e6:.2f} MB\")"
   ]
  },
  {
   "cell_type": "markdown",
   "id": "179264ec-dfab-4523-a07e-63d69afa19b4",
   "metadata": {},
   "source": [
    "#### Approaches to reduce memory usage while performing the EDA: *changing datatype*\n",
    "##### Convert to float32"
   ]
  },
  {
   "cell_type": "code",
   "execution_count": 14,
   "id": "22a88345-4aa9-4b6b-a4e5-1d64aadfd13f",
   "metadata": {},
   "outputs": [
    {
     "name": "stdout",
     "output_type": "stream",
     "text": [
      "CPU times: user 1min 6s, sys: 13.9 s, total: 1min 19s\n",
      "Wall time: 1min 26s\n"
     ]
    }
   ],
   "source": [
    "%%time\n",
    "dtypes = {\"lat_min\" : \"float32\",\n",
    "         \"lat_max\" : \"float32\",\n",
    "         \"lon_min\" : \"float32\",\n",
    "         \"lon_max\" : \"float32\",\n",
    "         \"rain (mm/day)\" : \"float32\",\n",
    "          \"model\" : \"string\"\n",
    "        }\n",
    "\n",
    "df_float32 = pd.read_csv('../data/processed/combined_data.csv', dtype=dtypes)"
   ]
  },
  {
   "cell_type": "code",
   "execution_count": 15,
   "id": "dce8833c-b10b-438d-9a95-1041811d3294",
   "metadata": {},
   "outputs": [
    {
     "name": "stdout",
     "output_type": "stream",
     "text": [
      "<class 'pandas.core.frame.DataFrame'>\n",
      "RangeIndex: 62513863 entries, 0 to 62513862\n",
      "Data columns (total 7 columns):\n",
      " #   Column         Dtype  \n",
      "---  ------         -----  \n",
      " 0   time           object \n",
      " 1   lat_min        float32\n",
      " 2   lat_max        float32\n",
      " 3   lon_min        float32\n",
      " 4   lon_max        float32\n",
      " 5   rain (mm/day)  float32\n",
      " 6   model          object \n",
      "dtypes: float32(5), object(2)\n",
      "memory usage: 2.1+ GB\n"
     ]
    }
   ],
   "source": [
    "df_float32.info()"
   ]
  },
  {
   "cell_type": "markdown",
   "id": "cf9198b5-8418-4bce-89d3-2f809e39143a",
   "metadata": {},
   "source": [
    "##### Convert to float16"
   ]
  },
  {
   "cell_type": "code",
   "execution_count": 9,
   "id": "e73beb98-cca7-47fc-b685-78ab450f9edb",
   "metadata": {},
   "outputs": [
    {
     "name": "stdout",
     "output_type": "stream",
     "text": [
      "CPU times: user 1min 10s, sys: 8.54 s, total: 1min 18s\n",
      "Wall time: 1min 22s\n"
     ]
    }
   ],
   "source": [
    "%%time\n",
    "dtypes = {\"lat_min\" : \"float16\",\n",
    "         \"lat_max\" : \"float16\",\n",
    "         \"lon_min\" : \"float16\",\n",
    "         \"lon_max\" : \"float16\",\n",
    "         \"rain (mm/day)\" : \"float16\",\n",
    "        \"model\" : \"string\"\n",
    "        }\n",
    "\n",
    "df_float16 = pd.read_csv('../data/processed/combined_data.csv', dtype=dtypes)"
   ]
  },
  {
   "cell_type": "code",
   "execution_count": 17,
   "id": "25a1a5a6-0bb9-411e-8061-4b377656b312",
   "metadata": {},
   "outputs": [
    {
     "data": {
      "text/html": [
       "<div>\n",
       "<style scoped>\n",
       "    .dataframe tbody tr th:only-of-type {\n",
       "        vertical-align: middle;\n",
       "    }\n",
       "\n",
       "    .dataframe tbody tr th {\n",
       "        vertical-align: top;\n",
       "    }\n",
       "\n",
       "    .dataframe thead th {\n",
       "        text-align: right;\n",
       "    }\n",
       "</style>\n",
       "<table border=\"1\" class=\"dataframe\">\n",
       "  <thead>\n",
       "    <tr style=\"text-align: right;\">\n",
       "      <th></th>\n",
       "      <th>time</th>\n",
       "      <th>lat_min</th>\n",
       "      <th>lat_max</th>\n",
       "      <th>lon_min</th>\n",
       "      <th>lon_max</th>\n",
       "      <th>rain (mm/day)</th>\n",
       "      <th>model</th>\n",
       "    </tr>\n",
       "  </thead>\n",
       "  <tbody>\n",
       "    <tr>\n",
       "      <th>0</th>\n",
       "      <td>1889-01-01 12:00:00</td>\n",
       "      <td>-35.43750</td>\n",
       "      <td>-33.56250</td>\n",
       "      <td>141.500</td>\n",
       "      <td>143.500</td>\n",
       "      <td>0.000000</td>\n",
       "      <td>MPI-ESM-1-2-HAM</td>\n",
       "    </tr>\n",
       "    <tr>\n",
       "      <th>1</th>\n",
       "      <td>1889-01-02 12:00:00</td>\n",
       "      <td>-35.43750</td>\n",
       "      <td>-33.56250</td>\n",
       "      <td>141.500</td>\n",
       "      <td>143.500</td>\n",
       "      <td>0.000000</td>\n",
       "      <td>MPI-ESM-1-2-HAM</td>\n",
       "    </tr>\n",
       "    <tr>\n",
       "      <th>2</th>\n",
       "      <td>1889-01-03 12:00:00</td>\n",
       "      <td>-35.43750</td>\n",
       "      <td>-33.56250</td>\n",
       "      <td>141.500</td>\n",
       "      <td>143.500</td>\n",
       "      <td>0.000000</td>\n",
       "      <td>MPI-ESM-1-2-HAM</td>\n",
       "    </tr>\n",
       "    <tr>\n",
       "      <th>3</th>\n",
       "      <td>1889-01-04 12:00:00</td>\n",
       "      <td>-35.43750</td>\n",
       "      <td>-33.56250</td>\n",
       "      <td>141.500</td>\n",
       "      <td>143.500</td>\n",
       "      <td>0.000000</td>\n",
       "      <td>MPI-ESM-1-2-HAM</td>\n",
       "    </tr>\n",
       "    <tr>\n",
       "      <th>4</th>\n",
       "      <td>1889-01-05 12:00:00</td>\n",
       "      <td>-35.43750</td>\n",
       "      <td>-33.56250</td>\n",
       "      <td>141.500</td>\n",
       "      <td>143.500</td>\n",
       "      <td>0.000000</td>\n",
       "      <td>MPI-ESM-1-2-HAM</td>\n",
       "    </tr>\n",
       "    <tr>\n",
       "      <th>...</th>\n",
       "      <td>...</td>\n",
       "      <td>...</td>\n",
       "      <td>...</td>\n",
       "      <td>...</td>\n",
       "      <td>...</td>\n",
       "      <td>...</td>\n",
       "      <td>...</td>\n",
       "    </tr>\n",
       "    <tr>\n",
       "      <th>62513858</th>\n",
       "      <td>2014-12-27 12:00:00</td>\n",
       "      <td>-30.15625</td>\n",
       "      <td>-29.21875</td>\n",
       "      <td>153.125</td>\n",
       "      <td>154.375</td>\n",
       "      <td>6.691406</td>\n",
       "      <td>SAM0-UNICON</td>\n",
       "    </tr>\n",
       "    <tr>\n",
       "      <th>62513859</th>\n",
       "      <td>2014-12-28 12:00:00</td>\n",
       "      <td>-30.15625</td>\n",
       "      <td>-29.21875</td>\n",
       "      <td>153.125</td>\n",
       "      <td>154.375</td>\n",
       "      <td>7.863281</td>\n",
       "      <td>SAM0-UNICON</td>\n",
       "    </tr>\n",
       "    <tr>\n",
       "      <th>62513860</th>\n",
       "      <td>2014-12-29 12:00:00</td>\n",
       "      <td>-30.15625</td>\n",
       "      <td>-29.21875</td>\n",
       "      <td>153.125</td>\n",
       "      <td>154.375</td>\n",
       "      <td>10.007812</td>\n",
       "      <td>SAM0-UNICON</td>\n",
       "    </tr>\n",
       "    <tr>\n",
       "      <th>62513861</th>\n",
       "      <td>2014-12-30 12:00:00</td>\n",
       "      <td>-30.15625</td>\n",
       "      <td>-29.21875</td>\n",
       "      <td>153.125</td>\n",
       "      <td>154.375</td>\n",
       "      <td>8.539062</td>\n",
       "      <td>SAM0-UNICON</td>\n",
       "    </tr>\n",
       "    <tr>\n",
       "      <th>62513862</th>\n",
       "      <td>2014-12-31 12:00:00</td>\n",
       "      <td>-30.15625</td>\n",
       "      <td>-29.21875</td>\n",
       "      <td>153.125</td>\n",
       "      <td>154.375</td>\n",
       "      <td>68.125000</td>\n",
       "      <td>SAM0-UNICON</td>\n",
       "    </tr>\n",
       "  </tbody>\n",
       "</table>\n",
       "<p>62513863 rows × 7 columns</p>\n",
       "</div>"
      ],
      "text/plain": [
       "                         time   lat_min   lat_max  lon_min  lon_max  \\\n",
       "0         1889-01-01 12:00:00 -35.43750 -33.56250  141.500  143.500   \n",
       "1         1889-01-02 12:00:00 -35.43750 -33.56250  141.500  143.500   \n",
       "2         1889-01-03 12:00:00 -35.43750 -33.56250  141.500  143.500   \n",
       "3         1889-01-04 12:00:00 -35.43750 -33.56250  141.500  143.500   \n",
       "4         1889-01-05 12:00:00 -35.43750 -33.56250  141.500  143.500   \n",
       "...                       ...       ...       ...      ...      ...   \n",
       "62513858  2014-12-27 12:00:00 -30.15625 -29.21875  153.125  154.375   \n",
       "62513859  2014-12-28 12:00:00 -30.15625 -29.21875  153.125  154.375   \n",
       "62513860  2014-12-29 12:00:00 -30.15625 -29.21875  153.125  154.375   \n",
       "62513861  2014-12-30 12:00:00 -30.15625 -29.21875  153.125  154.375   \n",
       "62513862  2014-12-31 12:00:00 -30.15625 -29.21875  153.125  154.375   \n",
       "\n",
       "          rain (mm/day)            model  \n",
       "0              0.000000  MPI-ESM-1-2-HAM  \n",
       "1              0.000000  MPI-ESM-1-2-HAM  \n",
       "2              0.000000  MPI-ESM-1-2-HAM  \n",
       "3              0.000000  MPI-ESM-1-2-HAM  \n",
       "4              0.000000  MPI-ESM-1-2-HAM  \n",
       "...                 ...              ...  \n",
       "62513858       6.691406      SAM0-UNICON  \n",
       "62513859       7.863281      SAM0-UNICON  \n",
       "62513860      10.007812      SAM0-UNICON  \n",
       "62513861       8.539062      SAM0-UNICON  \n",
       "62513862      68.125000      SAM0-UNICON  \n",
       "\n",
       "[62513863 rows x 7 columns]"
      ]
     },
     "execution_count": 17,
     "metadata": {},
     "output_type": "execute_result"
    }
   ],
   "source": [
    "df_float16 "
   ]
  },
  {
   "cell_type": "markdown",
   "id": "28cd6f23-6b85-4704-a74b-f5584568d67a",
   "metadata": {},
   "source": [
    "As demonstrated, changing `float64` to less precise datatypes reduced runtimes. Interestingly, it look like `float16` (1min 22s) took almost as long to load as the more precise `float32` ( 1min 26s). Moving forward, we will use the `float16` df because it takes up less memory."
   ]
  },
  {
   "cell_type": "markdown",
   "id": "aa601498-c69c-40c3-bae2-98a2b71dba8e",
   "metadata": {},
   "source": [
    "#### Approaches to reduce memory usage while performing the EDA: *Loading in chunks*"
   ]
  },
  {
   "cell_type": "code",
   "execution_count": 6,
   "id": "2f8cd17e-091f-4bb2-b505-f3cc87ba819e",
   "metadata": {},
   "outputs": [
    {
     "name": "stdout",
     "output_type": "stream",
     "text": [
      "CPU times: user 1min 10s, sys: 15.8 s, total: 1min 25s\n",
      "Wall time: 1min 34s\n"
     ]
    },
    {
     "data": {
      "text/html": [
       "<div>\n",
       "<style scoped>\n",
       "    .dataframe tbody tr th:only-of-type {\n",
       "        vertical-align: middle;\n",
       "    }\n",
       "\n",
       "    .dataframe tbody tr th {\n",
       "        vertical-align: top;\n",
       "    }\n",
       "\n",
       "    .dataframe thead th {\n",
       "        text-align: right;\n",
       "    }\n",
       "</style>\n",
       "<table border=\"1\" class=\"dataframe\">\n",
       "  <thead>\n",
       "    <tr style=\"text-align: right;\">\n",
       "      <th></th>\n",
       "      <th>time</th>\n",
       "      <th>lat_min</th>\n",
       "      <th>lat_max</th>\n",
       "      <th>lon_min</th>\n",
       "      <th>lon_max</th>\n",
       "      <th>rain (mm/day)</th>\n",
       "      <th>model</th>\n",
       "    </tr>\n",
       "  </thead>\n",
       "  <tbody>\n",
       "    <tr>\n",
       "      <th>0</th>\n",
       "      <td>1889-01-01 12:00:00</td>\n",
       "      <td>-35.439867</td>\n",
       "      <td>-33.574619</td>\n",
       "      <td>141.5625</td>\n",
       "      <td>143.4375</td>\n",
       "      <td>4.244226e-13</td>\n",
       "      <td>MPI-ESM-1-2-HAM</td>\n",
       "    </tr>\n",
       "    <tr>\n",
       "      <th>1</th>\n",
       "      <td>1889-01-02 12:00:00</td>\n",
       "      <td>-35.439867</td>\n",
       "      <td>-33.574619</td>\n",
       "      <td>141.5625</td>\n",
       "      <td>143.4375</td>\n",
       "      <td>4.217326e-13</td>\n",
       "      <td>MPI-ESM-1-2-HAM</td>\n",
       "    </tr>\n",
       "    <tr>\n",
       "      <th>2</th>\n",
       "      <td>1889-01-03 12:00:00</td>\n",
       "      <td>-35.439867</td>\n",
       "      <td>-33.574619</td>\n",
       "      <td>141.5625</td>\n",
       "      <td>143.4375</td>\n",
       "      <td>4.498125e-13</td>\n",
       "      <td>MPI-ESM-1-2-HAM</td>\n",
       "    </tr>\n",
       "    <tr>\n",
       "      <th>3</th>\n",
       "      <td>1889-01-04 12:00:00</td>\n",
       "      <td>-35.439867</td>\n",
       "      <td>-33.574619</td>\n",
       "      <td>141.5625</td>\n",
       "      <td>143.4375</td>\n",
       "      <td>4.251282e-13</td>\n",
       "      <td>MPI-ESM-1-2-HAM</td>\n",
       "    </tr>\n",
       "    <tr>\n",
       "      <th>4</th>\n",
       "      <td>1889-01-05 12:00:00</td>\n",
       "      <td>-35.439867</td>\n",
       "      <td>-33.574619</td>\n",
       "      <td>141.5625</td>\n",
       "      <td>143.4375</td>\n",
       "      <td>4.270161e-13</td>\n",
       "      <td>MPI-ESM-1-2-HAM</td>\n",
       "    </tr>\n",
       "    <tr>\n",
       "      <th>...</th>\n",
       "      <td>...</td>\n",
       "      <td>...</td>\n",
       "      <td>...</td>\n",
       "      <td>...</td>\n",
       "      <td>...</td>\n",
       "      <td>...</td>\n",
       "      <td>...</td>\n",
       "    </tr>\n",
       "    <tr>\n",
       "      <th>62513858</th>\n",
       "      <td>2014-12-27 12:00:00</td>\n",
       "      <td>-30.157068</td>\n",
       "      <td>-29.214660</td>\n",
       "      <td>153.1250</td>\n",
       "      <td>154.3750</td>\n",
       "      <td>6.689683e+00</td>\n",
       "      <td>SAM0-UNICON</td>\n",
       "    </tr>\n",
       "    <tr>\n",
       "      <th>62513859</th>\n",
       "      <td>2014-12-28 12:00:00</td>\n",
       "      <td>-30.157068</td>\n",
       "      <td>-29.214660</td>\n",
       "      <td>153.1250</td>\n",
       "      <td>154.3750</td>\n",
       "      <td>7.862555e+00</td>\n",
       "      <td>SAM0-UNICON</td>\n",
       "    </tr>\n",
       "    <tr>\n",
       "      <th>62513860</th>\n",
       "      <td>2014-12-29 12:00:00</td>\n",
       "      <td>-30.157068</td>\n",
       "      <td>-29.214660</td>\n",
       "      <td>153.1250</td>\n",
       "      <td>154.3750</td>\n",
       "      <td>1.000503e+01</td>\n",
       "      <td>SAM0-UNICON</td>\n",
       "    </tr>\n",
       "    <tr>\n",
       "      <th>62513861</th>\n",
       "      <td>2014-12-30 12:00:00</td>\n",
       "      <td>-30.157068</td>\n",
       "      <td>-29.214660</td>\n",
       "      <td>153.1250</td>\n",
       "      <td>154.3750</td>\n",
       "      <td>8.541592e+00</td>\n",
       "      <td>SAM0-UNICON</td>\n",
       "    </tr>\n",
       "    <tr>\n",
       "      <th>62513862</th>\n",
       "      <td>2014-12-31 12:00:00</td>\n",
       "      <td>-30.157068</td>\n",
       "      <td>-29.214660</td>\n",
       "      <td>153.1250</td>\n",
       "      <td>154.3750</td>\n",
       "      <td>6.811749e+01</td>\n",
       "      <td>SAM0-UNICON</td>\n",
       "    </tr>\n",
       "  </tbody>\n",
       "</table>\n",
       "<p>62513863 rows × 7 columns</p>\n",
       "</div>"
      ],
      "text/plain": [
       "                         time    lat_min    lat_max   lon_min   lon_max  \\\n",
       "0         1889-01-01 12:00:00 -35.439867 -33.574619  141.5625  143.4375   \n",
       "1         1889-01-02 12:00:00 -35.439867 -33.574619  141.5625  143.4375   \n",
       "2         1889-01-03 12:00:00 -35.439867 -33.574619  141.5625  143.4375   \n",
       "3         1889-01-04 12:00:00 -35.439867 -33.574619  141.5625  143.4375   \n",
       "4         1889-01-05 12:00:00 -35.439867 -33.574619  141.5625  143.4375   \n",
       "...                       ...        ...        ...       ...       ...   \n",
       "62513858  2014-12-27 12:00:00 -30.157068 -29.214660  153.1250  154.3750   \n",
       "62513859  2014-12-28 12:00:00 -30.157068 -29.214660  153.1250  154.3750   \n",
       "62513860  2014-12-29 12:00:00 -30.157068 -29.214660  153.1250  154.3750   \n",
       "62513861  2014-12-30 12:00:00 -30.157068 -29.214660  153.1250  154.3750   \n",
       "62513862  2014-12-31 12:00:00 -30.157068 -29.214660  153.1250  154.3750   \n",
       "\n",
       "          rain (mm/day)            model  \n",
       "0          4.244226e-13  MPI-ESM-1-2-HAM  \n",
       "1          4.217326e-13  MPI-ESM-1-2-HAM  \n",
       "2          4.498125e-13  MPI-ESM-1-2-HAM  \n",
       "3          4.251282e-13  MPI-ESM-1-2-HAM  \n",
       "4          4.270161e-13  MPI-ESM-1-2-HAM  \n",
       "...                 ...              ...  \n",
       "62513858   6.689683e+00      SAM0-UNICON  \n",
       "62513859   7.862555e+00      SAM0-UNICON  \n",
       "62513860   1.000503e+01      SAM0-UNICON  \n",
       "62513861   8.541592e+00      SAM0-UNICON  \n",
       "62513862   6.811749e+01      SAM0-UNICON  \n",
       "\n",
       "[62513863 rows x 7 columns]"
      ]
     },
     "execution_count": 6,
     "metadata": {},
     "output_type": "execute_result"
    }
   ],
   "source": [
    "%%time\n",
    "\n",
    "chunk = pd.read_csv(\"../data/processed/combined_data.csv\", chunksize=10_000_000, iterator=True)\n",
    "df = pd.concat(chunk)\n",
    "df"
   ]
  },
  {
   "cell_type": "markdown",
   "id": "3b07380e-82ac-42bf-914f-9191b6b86a46",
   "metadata": {},
   "source": [
    "Loading the data in chunks of 10,000,000 reduced the loading time from 1min 37s to 1 minute 34s. Let's combine the `float16` strategy with loading in chunks! "
   ]
  },
  {
   "cell_type": "code",
   "execution_count": 10,
   "id": "c58957a6-8563-4d6e-9218-9692852349d0",
   "metadata": {},
   "outputs": [
    {
     "name": "stdout",
     "output_type": "stream",
     "text": [
      "CPU times: user 1min 13s, sys: 9.08 s, total: 1min 23s\n",
      "Wall time: 1min 28s\n"
     ]
    }
   ],
   "source": [
    "%%time\n",
    "\n",
    "dtypes = {\"lat_min\" : \"float16\",\n",
    "         \"lat_max\" : \"float16\",\n",
    "         \"lon_min\" : \"float16\",\n",
    "         \"lon_max\" : \"float16\",\n",
    "         \"rain (mm/day)\" : \"float16\",\n",
    "         \"model\" : \"string\"\n",
    "        }\n",
    "\n",
    "final_df = pd.DataFrame()\n",
    "\n",
    "chunk = pd.read_csv(\"../data/processed/combined_data.csv\", chunksize=10_000_000, iterator=True, dtype=dtypes)\n",
    "final_df = pd.concat(chunk)"
   ]
  },
  {
   "cell_type": "code",
   "execution_count": 8,
   "id": "9222dff8-4c8b-4dac-988a-94e22e85e4c6",
   "metadata": {},
   "outputs": [
    {
     "name": "stdout",
     "output_type": "stream",
     "text": [
      "<class 'pandas.core.frame.DataFrame'>\n",
      "RangeIndex: 62513863 entries, 0 to 62513862\n",
      "Data columns (total 7 columns):\n",
      " #   Column         Dtype  \n",
      "---  ------         -----  \n",
      " 0   time           object \n",
      " 1   lat_min        float64\n",
      " 2   lat_max        float64\n",
      " 3   lon_min        float64\n",
      " 4   lon_max        float64\n",
      " 5   rain (mm/day)  float64\n",
      " 6   model          object \n",
      "dtypes: float64(5), object(2)\n",
      "memory usage: 3.3+ GB\n"
     ]
    }
   ],
   "source": [
    "final_df.info()"
   ]
  },
  {
   "cell_type": "markdown",
   "id": "511222cd-7019-4d42-a16d-b838c4c05fe9",
   "metadata": {},
   "source": [
    "We successfully reduced the load time from 1min 46s to 1min 28s. \n",
    "\n",
    "\n",
    "**Optimized data loading:**\n",
    "\n",
    "| Team Member   | Operating System | RAM | Processor | Is SSD | Time taken |\n",
    "|:-------------:|:----------------:|:---:|:---------:|:------:|:----------:|\n",
    "| Vera Cui      |                  |     |           |        |            |\n",
    "| Lynn Wu       |                  |     |           |        |            |\n",
    "| Jasmine Ortega|  MacOS           |8GB  |    M1     |  yes   |1 min 28s   |\n",
    "| Yike Shi      |                  |     |           |        |            |"
   ]
  },
  {
   "cell_type": "markdown",
   "id": "ea9c0fbe-df66-43e2-a94e-a6dde65978b8",
   "metadata": {},
   "source": [
    "#### EDA"
   ]
  },
  {
   "cell_type": "code",
   "execution_count": null,
   "id": "b3e68598-ba93-4803-b9d7-7905ec3ad45b",
   "metadata": {},
   "outputs": [],
   "source": []
  }
 ],
 "metadata": {
  "kernelspec": {
   "display_name": "Python [conda env:525_2022]",
   "language": "python",
   "name": "conda-env-525_2022-py"
  },
  "language_info": {
   "codemirror_mode": {
    "name": "ipython",
    "version": 3
   },
   "file_extension": ".py",
   "mimetype": "text/x-python",
   "name": "python",
   "nbconvert_exporter": "python",
   "pygments_lexer": "ipython3",
   "version": "3.8.6"
  }
 },
 "nbformat": 4,
 "nbformat_minor": 5
}
